{
 "cells": [
  {
   "cell_type": "markdown",
   "id": "3d2a9ae4-36e9-43f4-bebf-90078735ba0c",
   "metadata": {},
   "source": [
    "# Loading Data"
   ]
  },
  {
   "cell_type": "code",
   "execution_count": 1,
   "id": "375c30a6-c409-41ed-979f-9d4300e8643d",
   "metadata": {},
   "outputs": [],
   "source": [
    "import pandas as pd\n",
    "from textblob import TextBlob"
   ]
  },
  {
   "cell_type": "code",
   "execution_count": 2,
   "id": "7a4ef32f-1e0c-449a-b279-d827f72b4c7b",
   "metadata": {},
   "outputs": [
    {
     "name": "stdout",
     "output_type": "stream",
     "text": [
      "<class 'pandas.core.frame.DataFrame'>\n",
      "RangeIndex: 5695 entries, 0 to 5694\n",
      "Data columns (total 2 columns):\n",
      " #   Column  Non-Null Count  Dtype \n",
      "---  ------  --------------  ----- \n",
      " 0   text    5695 non-null   object\n",
      " 1   spam    5695 non-null   int64 \n",
      "dtypes: int64(1), object(1)\n",
      "memory usage: 89.1+ KB\n"
     ]
    }
   ],
   "source": [
    "# Read the data\n",
    "df = pd.read_csv(\"emails.csv\")\n",
    "# Remove duplicates\n",
    "df.drop_duplicates([\"text\"], ignore_index = True, inplace = True)\n",
    "# Review\n",
    "df.info()"
   ]
  },
  {
   "cell_type": "markdown",
   "id": "a47d912e-1bca-4421-a1b2-6e8a63db520b",
   "metadata": {},
   "source": [
    "# Cleaning the Text and Writing the Polarity and Subjectivity of Each Text"
   ]
  },
  {
   "cell_type": "code",
   "execution_count": 3,
   "id": "53b6fb58-3742-452e-8d20-6e9bc4da295b",
   "metadata": {},
   "outputs": [],
   "source": [
    "from nltk.corpus import stopwords\n",
    "import string"
   ]
  },
  {
   "cell_type": "code",
   "execution_count": 4,
   "id": "d6eac3ad-3f2e-4e61-8a1d-49b9241a1ccf",
   "metadata": {},
   "outputs": [],
   "source": [
    "# Set the preferred list of stopwords\n",
    "sw = stopwords.words(\"english\") + [\"subject\", \"re\"]"
   ]
  },
  {
   "cell_type": "code",
   "execution_count": 5,
   "id": "38f261b0-9aa9-4313-8ef7-6f633fde032e",
   "metadata": {},
   "outputs": [],
   "source": [
    "# Initiate an empty dataframe for the final data with sentiment-related information\n",
    "sendf = pd.DataFrame(columns = list(df.columns)[: -1] + [\"polarity\", \"subjectivity\"])"
   ]
  },
  {
   "cell_type": "code",
   "execution_count": 6,
   "id": "50966619-6674-4d0d-a21c-60e4873a9751",
   "metadata": {},
   "outputs": [],
   "source": [
    "# Initilize empty lists for the clean email texts, polarities and subjectivities\n",
    "texts = []\n",
    "pols = []\n",
    "subjs = []\n",
    "for i in range(len(df)):\n",
    "    mainblob = TextBlob(df[\"text\"][i])\n",
    "    # Translation table for removing punctuations\n",
    "    t = str.maketrans(\"\", \"\", string.punctuation)\n",
    "    finalText = \"\"\n",
    "    for w in mainblob.words:\n",
    "        w = str(w).translate(t)\n",
    "        if w.isalpha() and not w in sw:\n",
    "            finalText += w.lower() + \" \"\n",
    "    finalText = finalText[: -1]\n",
    "    # Store the clean text in the dataset\n",
    "    texts.append(finalText)\n",
    "    # The sentiment analysis blob\n",
    "    sentimentblob = TextBlob(finalText)\n",
    "    # Get the polarity and the subjectivity and push to the dataset\n",
    "    pol = sentimentblob.sentiment.polarity\n",
    "    subj = sentimentblob.sentiment.subjectivity\n",
    "    pols.append(pol)\n",
    "    subjs.append(subj)\n",
    "# Add the clean texts, polarities and subjectivities to the dataset\n",
    "sendf[\"text\"] = texts\n",
    "sendf[\"polarity\"] = pols\n",
    "sendf[\"subjectivity\"] = subjs"
   ]
  },
  {
   "cell_type": "code",
   "execution_count": 7,
   "id": "43d3287f-a5db-4cbc-8062-111bee083899",
   "metadata": {},
   "outputs": [
    {
     "data": {
      "text/html": [
       "<div>\n",
       "<style scoped>\n",
       "    .dataframe tbody tr th:only-of-type {\n",
       "        vertical-align: middle;\n",
       "    }\n",
       "\n",
       "    .dataframe tbody tr th {\n",
       "        vertical-align: top;\n",
       "    }\n",
       "\n",
       "    .dataframe thead th {\n",
       "        text-align: right;\n",
       "    }\n",
       "</style>\n",
       "<table border=\"1\" class=\"dataframe\">\n",
       "  <thead>\n",
       "    <tr style=\"text-align: right;\">\n",
       "      <th></th>\n",
       "      <th>text</th>\n",
       "      <th>polarity</th>\n",
       "      <th>subjectivity</th>\n",
       "    </tr>\n",
       "  </thead>\n",
       "  <tbody>\n",
       "    <tr>\n",
       "      <th>0</th>\n",
       "      <td>subject naturally irresistible corporate ident...</td>\n",
       "      <td>0.305639</td>\n",
       "      <td>0.549373</td>\n",
       "    </tr>\n",
       "    <tr>\n",
       "      <th>1</th>\n",
       "      <td>subject stock trading gunslinger fanny merrill...</td>\n",
       "      <td>0.106746</td>\n",
       "      <td>0.562698</td>\n",
       "    </tr>\n",
       "    <tr>\n",
       "      <th>2</th>\n",
       "      <td>subject unbelievable new homes made easy im wa...</td>\n",
       "      <td>0.040229</td>\n",
       "      <td>0.480581</td>\n",
       "    </tr>\n",
       "    <tr>\n",
       "      <th>3</th>\n",
       "      <td>subject color printing special request additio...</td>\n",
       "      <td>0.163492</td>\n",
       "      <td>0.468254</td>\n",
       "    </tr>\n",
       "    <tr>\n",
       "      <th>4</th>\n",
       "      <td>subject money get software cds software compat...</td>\n",
       "      <td>0.433333</td>\n",
       "      <td>0.395833</td>\n",
       "    </tr>\n",
       "  </tbody>\n",
       "</table>\n",
       "</div>"
      ],
      "text/plain": [
       "                                                text  polarity  subjectivity\n",
       "0  subject naturally irresistible corporate ident...  0.305639      0.549373\n",
       "1  subject stock trading gunslinger fanny merrill...  0.106746      0.562698\n",
       "2  subject unbelievable new homes made easy im wa...  0.040229      0.480581\n",
       "3  subject color printing special request additio...  0.163492      0.468254\n",
       "4  subject money get software cds software compat...  0.433333      0.395833"
      ]
     },
     "execution_count": 7,
     "metadata": {},
     "output_type": "execute_result"
    }
   ],
   "source": [
    "sendf.head()"
   ]
  },
  {
   "cell_type": "code",
   "execution_count": null,
   "id": "59878400-9c71-47d3-9e4a-ab240013f985",
   "metadata": {},
   "outputs": [],
   "source": []
  }
 ],
 "metadata": {
  "kernelspec": {
   "display_name": "Python 3",
   "language": "python",
   "name": "python3"
  },
  "language_info": {
   "codemirror_mode": {
    "name": "ipython",
    "version": 3
   },
   "file_extension": ".py",
   "mimetype": "text/x-python",
   "name": "python",
   "nbconvert_exporter": "python",
   "pygments_lexer": "ipython3",
   "version": "3.7.0"
  }
 },
 "nbformat": 4,
 "nbformat_minor": 5
}
